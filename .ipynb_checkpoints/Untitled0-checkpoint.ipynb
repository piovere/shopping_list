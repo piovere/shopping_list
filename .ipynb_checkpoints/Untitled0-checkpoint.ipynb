{
 "metadata": {
  "name": "",
  "signature": "sha256:274749d957567ee2e0765392f9d439d000fd6506a3145461894708a863c14104"
 },
 "nbformat": 3,
 "nbformat_minor": 0,
 "worksheets": []
}